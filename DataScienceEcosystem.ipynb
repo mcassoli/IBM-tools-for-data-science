{
 "cells": [
  {
   "cell_type": "markdown",
   "id": "52609f41",
   "metadata": {},
   "source": [
    "# Data Science Tools and Ecosystem"
   ]
  },
  {
   "cell_type": "markdown",
   "id": "c2541e1d",
   "metadata": {},
   "source": [
    "## Author: \n",
    "Matthew Cassoli"
   ]
  },
  {
   "cell_type": "markdown",
   "id": "1786433b",
   "metadata": {},
   "source": [
    "In this notebook, I'll summarize Data Science Tools and Ecosystems."
   ]
  },
  {
   "cell_type": "markdown",
   "id": "ad96804a",
   "metadata": {},
   "source": [
    "<b>Objectives</b>\n",
    "1. Learn about Data Science software tools\n",
    "2. Learn about Data Science collaboration tools\n",
    "3. Practice using collaborative tools (Jupyter, GitHub)"
   ]
  },
  {
   "cell_type": "markdown",
   "id": "92733dd6",
   "metadata": {},
   "source": [
    "Some popular languages used by Data Scientists are:\n",
    "    <ol>\n",
    "    <li>R</li>\n",
    "    <li>Python</li>\n",
    "    <li>C++</li>\n",
    "    <li>Scala</li>\n",
    "    </ol>"
   ]
  },
  {
   "cell_type": "markdown",
   "id": "e586fec0",
   "metadata": {},
   "source": [
    "Some common libraries in Data Science are:\n",
    "1. ggplot\n",
    "2. matplotlib\n",
    "3. scipy\n",
    "4. numpy"
   ]
  },
  {
   "cell_type": "markdown",
   "id": "a681559e",
   "metadata": {},
   "source": [
    "|Data Science Tools|\n",
    "|-----------------|\n",
    "|R Studio|\n",
    "|Anaconda Navigator|\n",
    "|VS Code|"
   ]
  },
  {
   "cell_type": "markdown",
   "id": "4028c921",
   "metadata": {},
   "source": [
    "### Below are some examples of evaluating arithmetic expressions in Python."
   ]
  },
  {
   "cell_type": "code",
   "execution_count": 1,
   "id": "b0e9fb21",
   "metadata": {},
   "outputs": [
    {
     "data": {
      "text/plain": [
       "17"
      ]
     },
     "execution_count": 1,
     "metadata": {},
     "output_type": "execute_result"
    }
   ],
   "source": [
    "#This is a simple expression to multiply and add integers:\n",
    "(3*4)+5"
   ]
  },
  {
   "cell_type": "code",
   "execution_count": 2,
   "id": "f57f9ebf",
   "metadata": {},
   "outputs": [
    {
     "data": {
      "text/plain": [
       "3.3333333333333335"
      ]
     },
     "execution_count": 2,
     "metadata": {},
     "output_type": "execute_result"
    }
   ],
   "source": [
    "#This will convert 200 minutes to hours by dividing by 60\n",
    "minutes = 200\n",
    "mins_per_hour = 60\n",
    "minutes / mins_per_hour"
   ]
  },
  {
   "cell_type": "code",
   "execution_count": null,
   "id": "3daea5d7",
   "metadata": {},
   "outputs": [],
   "source": []
  }
 ],
 "metadata": {
  "kernelspec": {
   "display_name": "Python 3 (ipykernel)",
   "language": "python",
   "name": "python3"
  },
  "language_info": {
   "codemirror_mode": {
    "name": "ipython",
    "version": 3
   },
   "file_extension": ".py",
   "mimetype": "text/x-python",
   "name": "python",
   "nbconvert_exporter": "python",
   "pygments_lexer": "ipython3",
   "version": "3.7.1"
  }
 },
 "nbformat": 4,
 "nbformat_minor": 5
}
